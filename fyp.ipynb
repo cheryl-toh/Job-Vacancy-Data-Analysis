{
  "nbformat": 4,
  "nbformat_minor": 0,
  "metadata": {
    "colab": {
      "provenance": [],
      "authorship_tag": "ABX9TyMy/vWp+4HgvecMYXqYMSP6",
      "include_colab_link": true
    },
    "kernelspec": {
      "name": "python3",
      "display_name": "Python 3"
    },
    "language_info": {
      "name": "python"
    }
  },
  "cells": [
    {
      "cell_type": "markdown",
      "metadata": {
        "id": "view-in-github",
        "colab_type": "text"
      },
      "source": [
        "<a href=\"https://colab.research.google.com/github/cheryl-toh/Job-Vacancy-Data-Analysis/blob/main/fyp.ipynb\" target=\"_parent\"><img src=\"https://colab.research.google.com/assets/colab-badge.svg\" alt=\"Open In Colab\"/></a>"
      ]
    },
    {
      "cell_type": "markdown",
      "source": [
        "**Install necesarry plugins**"
      ],
      "metadata": {
        "id": "FMNozVUvH-kx"
      }
    },
    {
      "cell_type": "code",
      "source": [
        "!pip install ultralytics\n",
        "!pip install google"
      ],
      "metadata": {
        "colab": {
          "base_uri": "https://localhost:8080/"
        },
        "id": "nVzLF2LGwVr3",
        "outputId": "9762ac35-216e-4395-90de-9006912223be"
      },
      "execution_count": null,
      "outputs": [
        {
          "output_type": "stream",
          "name": "stdout",
          "text": [
            "Requirement already satisfied: ultralytics in /usr/local/lib/python3.10/dist-packages (8.2.56)\n",
            "Requirement already satisfied: numpy<2.0.0,>=1.23.0 in /usr/local/lib/python3.10/dist-packages (from ultralytics) (1.25.2)\n",
            "Requirement already satisfied: matplotlib>=3.3.0 in /usr/local/lib/python3.10/dist-packages (from ultralytics) (3.7.1)\n",
            "Requirement already satisfied: opencv-python>=4.6.0 in /usr/local/lib/python3.10/dist-packages (from ultralytics) (4.8.0.76)\n",
            "Requirement already satisfied: pillow>=7.1.2 in /usr/local/lib/python3.10/dist-packages (from ultralytics) (9.4.0)\n",
            "Requirement already satisfied: pyyaml>=5.3.1 in /usr/local/lib/python3.10/dist-packages (from ultralytics) (6.0.1)\n",
            "Requirement already satisfied: requests>=2.23.0 in /usr/local/lib/python3.10/dist-packages (from ultralytics) (2.31.0)\n",
            "Requirement already satisfied: scipy>=1.4.1 in /usr/local/lib/python3.10/dist-packages (from ultralytics) (1.11.4)\n",
            "Requirement already satisfied: torch>=1.8.0 in /usr/local/lib/python3.10/dist-packages (from ultralytics) (2.3.0+cu121)\n",
            "Requirement already satisfied: torchvision>=0.9.0 in /usr/local/lib/python3.10/dist-packages (from ultralytics) (0.18.0+cu121)\n",
            "Requirement already satisfied: tqdm>=4.64.0 in /usr/local/lib/python3.10/dist-packages (from ultralytics) (4.66.4)\n",
            "Requirement already satisfied: psutil in /usr/local/lib/python3.10/dist-packages (from ultralytics) (5.9.5)\n",
            "Requirement already satisfied: py-cpuinfo in /usr/local/lib/python3.10/dist-packages (from ultralytics) (9.0.0)\n",
            "Requirement already satisfied: pandas>=1.1.4 in /usr/local/lib/python3.10/dist-packages (from ultralytics) (2.0.3)\n",
            "Requirement already satisfied: seaborn>=0.11.0 in /usr/local/lib/python3.10/dist-packages (from ultralytics) (0.13.1)\n",
            "Requirement already satisfied: ultralytics-thop>=2.0.0 in /usr/local/lib/python3.10/dist-packages (from ultralytics) (2.0.0)\n",
            "Requirement already satisfied: contourpy>=1.0.1 in /usr/local/lib/python3.10/dist-packages (from matplotlib>=3.3.0->ultralytics) (1.2.1)\n",
            "Requirement already satisfied: cycler>=0.10 in /usr/local/lib/python3.10/dist-packages (from matplotlib>=3.3.0->ultralytics) (0.12.1)\n",
            "Requirement already satisfied: fonttools>=4.22.0 in /usr/local/lib/python3.10/dist-packages (from matplotlib>=3.3.0->ultralytics) (4.53.1)\n",
            "Requirement already satisfied: kiwisolver>=1.0.1 in /usr/local/lib/python3.10/dist-packages (from matplotlib>=3.3.0->ultralytics) (1.4.5)\n",
            "Requirement already satisfied: packaging>=20.0 in /usr/local/lib/python3.10/dist-packages (from matplotlib>=3.3.0->ultralytics) (24.1)\n",
            "Requirement already satisfied: pyparsing>=2.3.1 in /usr/local/lib/python3.10/dist-packages (from matplotlib>=3.3.0->ultralytics) (3.1.2)\n",
            "Requirement already satisfied: python-dateutil>=2.7 in /usr/local/lib/python3.10/dist-packages (from matplotlib>=3.3.0->ultralytics) (2.8.2)\n",
            "Requirement already satisfied: pytz>=2020.1 in /usr/local/lib/python3.10/dist-packages (from pandas>=1.1.4->ultralytics) (2023.4)\n",
            "Requirement already satisfied: tzdata>=2022.1 in /usr/local/lib/python3.10/dist-packages (from pandas>=1.1.4->ultralytics) (2024.1)\n",
            "Requirement already satisfied: charset-normalizer<4,>=2 in /usr/local/lib/python3.10/dist-packages (from requests>=2.23.0->ultralytics) (3.3.2)\n",
            "Requirement already satisfied: idna<4,>=2.5 in /usr/local/lib/python3.10/dist-packages (from requests>=2.23.0->ultralytics) (3.7)\n",
            "Requirement already satisfied: urllib3<3,>=1.21.1 in /usr/local/lib/python3.10/dist-packages (from requests>=2.23.0->ultralytics) (2.0.7)\n",
            "Requirement already satisfied: certifi>=2017.4.17 in /usr/local/lib/python3.10/dist-packages (from requests>=2.23.0->ultralytics) (2024.7.4)\n",
            "Requirement already satisfied: filelock in /usr/local/lib/python3.10/dist-packages (from torch>=1.8.0->ultralytics) (3.15.4)\n",
            "Requirement already satisfied: typing-extensions>=4.8.0 in /usr/local/lib/python3.10/dist-packages (from torch>=1.8.0->ultralytics) (4.12.2)\n",
            "Requirement already satisfied: sympy in /usr/local/lib/python3.10/dist-packages (from torch>=1.8.0->ultralytics) (1.13.0)\n",
            "Requirement already satisfied: networkx in /usr/local/lib/python3.10/dist-packages (from torch>=1.8.0->ultralytics) (3.3)\n",
            "Requirement already satisfied: jinja2 in /usr/local/lib/python3.10/dist-packages (from torch>=1.8.0->ultralytics) (3.1.4)\n",
            "Requirement already satisfied: fsspec in /usr/local/lib/python3.10/dist-packages (from torch>=1.8.0->ultralytics) (2023.6.0)\n",
            "Requirement already satisfied: nvidia-cuda-nvrtc-cu12==12.1.105 in /usr/local/lib/python3.10/dist-packages (from torch>=1.8.0->ultralytics) (12.1.105)\n",
            "Requirement already satisfied: nvidia-cuda-runtime-cu12==12.1.105 in /usr/local/lib/python3.10/dist-packages (from torch>=1.8.0->ultralytics) (12.1.105)\n",
            "Requirement already satisfied: nvidia-cuda-cupti-cu12==12.1.105 in /usr/local/lib/python3.10/dist-packages (from torch>=1.8.0->ultralytics) (12.1.105)\n",
            "Requirement already satisfied: nvidia-cudnn-cu12==8.9.2.26 in /usr/local/lib/python3.10/dist-packages (from torch>=1.8.0->ultralytics) (8.9.2.26)\n",
            "Requirement already satisfied: nvidia-cublas-cu12==12.1.3.1 in /usr/local/lib/python3.10/dist-packages (from torch>=1.8.0->ultralytics) (12.1.3.1)\n",
            "Requirement already satisfied: nvidia-cufft-cu12==11.0.2.54 in /usr/local/lib/python3.10/dist-packages (from torch>=1.8.0->ultralytics) (11.0.2.54)\n",
            "Requirement already satisfied: nvidia-curand-cu12==10.3.2.106 in /usr/local/lib/python3.10/dist-packages (from torch>=1.8.0->ultralytics) (10.3.2.106)\n",
            "Requirement already satisfied: nvidia-cusolver-cu12==11.4.5.107 in /usr/local/lib/python3.10/dist-packages (from torch>=1.8.0->ultralytics) (11.4.5.107)\n",
            "Requirement already satisfied: nvidia-cusparse-cu12==12.1.0.106 in /usr/local/lib/python3.10/dist-packages (from torch>=1.8.0->ultralytics) (12.1.0.106)\n",
            "Requirement already satisfied: nvidia-nccl-cu12==2.20.5 in /usr/local/lib/python3.10/dist-packages (from torch>=1.8.0->ultralytics) (2.20.5)\n",
            "Requirement already satisfied: nvidia-nvtx-cu12==12.1.105 in /usr/local/lib/python3.10/dist-packages (from torch>=1.8.0->ultralytics) (12.1.105)\n",
            "Requirement already satisfied: triton==2.3.0 in /usr/local/lib/python3.10/dist-packages (from torch>=1.8.0->ultralytics) (2.3.0)\n",
            "Requirement already satisfied: nvidia-nvjitlink-cu12 in /usr/local/lib/python3.10/dist-packages (from nvidia-cusolver-cu12==11.4.5.107->torch>=1.8.0->ultralytics) (12.5.82)\n",
            "Requirement already satisfied: six>=1.5 in /usr/local/lib/python3.10/dist-packages (from python-dateutil>=2.7->matplotlib>=3.3.0->ultralytics) (1.16.0)\n",
            "Requirement already satisfied: MarkupSafe>=2.0 in /usr/local/lib/python3.10/dist-packages (from jinja2->torch>=1.8.0->ultralytics) (2.1.5)\n",
            "Requirement already satisfied: mpmath<1.4,>=1.1.0 in /usr/local/lib/python3.10/dist-packages (from sympy->torch>=1.8.0->ultralytics) (1.3.0)\n",
            "Requirement already satisfied: google in /usr/local/lib/python3.10/dist-packages (2.0.3)\n",
            "Requirement already satisfied: beautifulsoup4 in /usr/local/lib/python3.10/dist-packages (from google) (4.12.3)\n",
            "Requirement already satisfied: soupsieve>1.2 in /usr/local/lib/python3.10/dist-packages (from beautifulsoup4->google) (2.5)\n"
          ]
        }
      ]
    },
    {
      "cell_type": "markdown",
      "source": [
        "**Load yolov8 Model**"
      ],
      "metadata": {
        "id": "3xdRtHoDJdh3"
      }
    },
    {
      "cell_type": "code",
      "source": [
        "from ultralytics import YOLO\n",
        "\n",
        "#Load yolov8 model\n",
        "model = YOLO(\"yolov8n.pt\")"
      ],
      "metadata": {
        "id": "UFh-Gwj80xEh"
      },
      "execution_count": null,
      "outputs": []
    },
    {
      "cell_type": "markdown",
      "source": [
        "**Get image from user using image address**"
      ],
      "metadata": {
        "id": "MM0omErCJq6g"
      }
    },
    {
      "cell_type": "code",
      "source": [
        "#Get image from user\n",
        "filepath = input(\"Enter the file path: \")\n",
        "noterror = False\n",
        "\n",
        "results = model(filepath)  # list of objects\n",
        "noterror = True\n",
        "# Print results\n",
        "print(results)\n",
        "\n",
        "#Will continue to ask the user if file path is invalid\n",
        "while(noterror == False):\n",
        "\n",
        "  #If image is invalid print error\n",
        "  try :\n",
        "    # Run inference on image\n",
        "    results = model(filepath)  # list of objects\n",
        "    noterror = True\n",
        "    # Print results\n",
        "    print(results)\n",
        "  except:\n",
        "    print(\"Error in finding file path\")\n",
        "    filepath = input(\"Enter the file path again: \")\n",
        "    noterror = False"
      ],
      "metadata": {
        "colab": {
          "base_uri": "https://localhost:8080/"
        },
        "id": "qHozVfnk0qeI",
        "outputId": "fbc6ff47-c969-4ec1-a26c-368236a9877a"
      },
      "execution_count": null,
      "outputs": [
        {
          "output_type": "stream",
          "name": "stdout",
          "text": [
            "Enter the file path: https://www.slashgear.com/img/gallery/every-major-electric-guitar-brand-ranked/intro-1696105753.jpg\n",
            "\n",
            "Downloading https://www.slashgear.com/img/gallery/every-major-electric-guitar-brand-ranked/intro-1696105753.jpg to 'intro-1696105753.jpg'...\n"
          ]
        },
        {
          "output_type": "stream",
          "name": "stderr",
          "text": [
            "100%|██████████| 138k/138k [00:00<00:00, 3.85MB/s]\n"
          ]
        },
        {
          "output_type": "stream",
          "name": "stdout",
          "text": [
            "image 1/1 /content/intro-1696105753.jpg: 384x640 1 motorcycle, 203.3ms\n",
            "Speed: 3.4ms preprocess, 203.3ms inference, 1.2ms postprocess per image at shape (1, 3, 384, 640)\n",
            "[ultralytics.engine.results.Results object with attributes:\n",
            "\n",
            "boxes: ultralytics.engine.results.Boxes object\n",
            "keypoints: None\n",
            "masks: None\n",
            "names: {0: 'person', 1: 'bicycle', 2: 'car', 3: 'motorcycle', 4: 'airplane', 5: 'bus', 6: 'train', 7: 'truck', 8: 'boat', 9: 'traffic light', 10: 'fire hydrant', 11: 'stop sign', 12: 'parking meter', 13: 'bench', 14: 'bird', 15: 'cat', 16: 'dog', 17: 'horse', 18: 'sheep', 19: 'cow', 20: 'elephant', 21: 'bear', 22: 'zebra', 23: 'giraffe', 24: 'backpack', 25: 'umbrella', 26: 'handbag', 27: 'tie', 28: 'suitcase', 29: 'frisbee', 30: 'skis', 31: 'snowboard', 32: 'sports ball', 33: 'kite', 34: 'baseball bat', 35: 'baseball glove', 36: 'skateboard', 37: 'surfboard', 38: 'tennis racket', 39: 'bottle', 40: 'wine glass', 41: 'cup', 42: 'fork', 43: 'knife', 44: 'spoon', 45: 'bowl', 46: 'banana', 47: 'apple', 48: 'sandwich', 49: 'orange', 50: 'broccoli', 51: 'carrot', 52: 'hot dog', 53: 'pizza', 54: 'donut', 55: 'cake', 56: 'chair', 57: 'couch', 58: 'potted plant', 59: 'bed', 60: 'dining table', 61: 'toilet', 62: 'tv', 63: 'laptop', 64: 'mouse', 65: 'remote', 66: 'keyboard', 67: 'cell phone', 68: 'microwave', 69: 'oven', 70: 'toaster', 71: 'sink', 72: 'refrigerator', 73: 'book', 74: 'clock', 75: 'vase', 76: 'scissors', 77: 'teddy bear', 78: 'hair drier', 79: 'toothbrush'}\n",
            "obb: None\n",
            "orig_img: array([[[ 0,  0,  0],\n",
            "        [ 0,  0,  0],\n",
            "        [ 0,  0,  0],\n",
            "        ...,\n",
            "        [89, 79, 85],\n",
            "        [89, 79, 85],\n",
            "        [88, 77, 85]],\n",
            "\n",
            "       [[ 0,  0,  0],\n",
            "        [ 0,  0,  0],\n",
            "        [ 0,  0,  0],\n",
            "        ...,\n",
            "        [89, 79, 85],\n",
            "        [88, 78, 84],\n",
            "        [88, 77, 85]],\n",
            "\n",
            "       [[ 0,  0,  0],\n",
            "        [ 0,  0,  0],\n",
            "        [ 0,  0,  0],\n",
            "        ...,\n",
            "        [89, 79, 85],\n",
            "        [88, 78, 84],\n",
            "        [88, 77, 85]],\n",
            "\n",
            "       ...,\n",
            "\n",
            "       [[ 8,  9, 13],\n",
            "        [ 8,  9, 13],\n",
            "        [ 8,  9, 13],\n",
            "        ...,\n",
            "        [ 0,  0, 21],\n",
            "        [ 0,  0, 20],\n",
            "        [ 0,  1, 22]],\n",
            "\n",
            "       [[ 9,  9, 15],\n",
            "        [ 9, 10, 14],\n",
            "        [ 9, 10, 14],\n",
            "        ...,\n",
            "        [ 4,  1, 23],\n",
            "        [ 4,  2, 24],\n",
            "        [ 4,  7, 28]],\n",
            "\n",
            "       [[ 9,  9, 15],\n",
            "        [ 9,  9, 15],\n",
            "        [ 9, 10, 14],\n",
            "        ...,\n",
            "        [ 0,  8, 26],\n",
            "        [ 0, 20, 37],\n",
            "        [ 6, 39, 55]]], dtype=uint8)\n",
            "orig_shape: (438, 780)\n",
            "path: '/content/intro-1696105753.jpg'\n",
            "probs: None\n",
            "save_dir: 'runs/detect/predict8'\n",
            "speed: {'preprocess': 3.4339427947998047, 'inference': 203.25493812561035, 'postprocess': 1.1832714080810547}]\n"
          ]
        }
      ]
    },
    {
      "cell_type": "markdown",
      "source": [
        "**Save image prediction results to be viewed (Not to be seen by users)**"
      ],
      "metadata": {
        "id": "oZW8306uJ3J3"
      }
    },
    {
      "cell_type": "code",
      "source": [
        "#Save image with the located objects\n",
        "!yolo predict model=yolov8n.pt source={filepath}"
      ],
      "metadata": {
        "colab": {
          "base_uri": "https://localhost:8080/"
        },
        "id": "z-MdFlw1w31P",
        "outputId": "f75a62a1-4a51-4f84-91d7-372091e42280"
      },
      "execution_count": null,
      "outputs": [
        {
          "output_type": "stream",
          "name": "stdout",
          "text": [
            "Ultralytics YOLOv8.2.56 🚀 Python-3.10.12 torch-2.3.0+cu121 CPU (Intel Xeon 2.20GHz)\n",
            "YOLOv8n summary (fused): 168 layers, 3,151,904 parameters, 0 gradients, 8.7 GFLOPs\n",
            "\n",
            "Found https://www.slashgear.com/img/gallery/every-major-electric-guitar-brand-ranked/intro-1696105753.jpg locally at intro-1696105753.jpg\n",
            "image 1/1 /content/intro-1696105753.jpg: 384x640 1 motorcycle, 222.1ms\n",
            "Speed: 5.5ms preprocess, 222.1ms inference, 1.5ms postprocess per image at shape (1, 3, 384, 640)\n",
            "Results saved to \u001b[1mruns/detect/predict9\u001b[0m\n",
            "💡 Learn more at https://docs.ultralytics.com/modes/predict\n"
          ]
        }
      ]
    },
    {
      "cell_type": "markdown",
      "source": [
        "**Only to view the results of the bounding boxes (Not to be seen by users)**"
      ],
      "metadata": {
        "id": "AzJ34dmfKHRr"
      }
    },
    {
      "cell_type": "code",
      "source": [
        "# View results\n",
        "for r in results:\n",
        "    print(r.boxes)  # print the Boxes object containing the detection bounding boxes"
      ],
      "metadata": {
        "colab": {
          "base_uri": "https://localhost:8080/"
        },
        "id": "sEtfiTgrxtnu",
        "outputId": "fff9a2fc-941d-41fc-bedf-75a1b2465888"
      },
      "execution_count": null,
      "outputs": [
        {
          "output_type": "stream",
          "name": "stdout",
          "text": [
            "ultralytics.engine.results.Boxes object with attributes:\n",
            "\n",
            "cls: tensor([3.])\n",
            "conf: tensor([0.3013])\n",
            "data: tensor([[4.9347e+00, 1.5457e+00, 7.7618e+02, 4.2075e+02, 3.0133e-01, 3.0000e+00]])\n",
            "id: None\n",
            "is_track: False\n",
            "orig_shape: (438, 780)\n",
            "shape: torch.Size([1, 6])\n",
            "xywh: tensor([[390.5569, 211.1497, 771.2446, 419.2080]])\n",
            "xywhn: tensor([[0.5007, 0.4821, 0.9888, 0.9571]])\n",
            "xyxy: tensor([[  4.9347,   1.5457, 776.1792, 420.7537]])\n",
            "xyxyn: tensor([[0.0063, 0.0035, 0.9951, 0.9606]])\n"
          ]
        }
      ]
    },
    {
      "cell_type": "markdown",
      "source": [
        "**View the image as Annotated by the Model with directory to the top search within Google**"
      ],
      "metadata": {
        "id": "zc6b4yOSKXAh"
      }
    },
    {
      "cell_type": "code",
      "source": [
        "#Checks if image has any objects\n",
        "if (r.boxes.cls.numpy().size == 0):\n",
        "  print(\"No objects detected unable to process image\")\n",
        "else:\n",
        "  #Assign classification of object based on the class to names\n",
        "  var1 = r.boxes.cls.numpy()[0]\n",
        "  objectset = set()\n",
        "\n",
        "  #Add all unique values into a set\n",
        "  for classindex in r.boxes.cls.numpy():\n",
        "    classname = r.names[(classindex)]\n",
        "    objectset.add(classname)\n",
        "\n",
        "  #Print all unique objects to be viewed\n",
        "  print(objectset)\n",
        "\n",
        "  #Import Google Search\n",
        "  from googlesearch import search\n",
        "  #For every unique object search and print the top 10 google searches for said object\n",
        "  for objecttype in objectset:\n",
        "    print(objecttype)\n",
        "    query = objecttype\n",
        "    for j in search(query, tld=\"co.in\", num=10, stop=10, pause=2):\n",
        "      print(j)"
      ],
      "metadata": {
        "colab": {
          "base_uri": "https://localhost:8080/"
        },
        "id": "5jGTn3j5y5Wf",
        "outputId": "4cf703e1-0532-41c6-8fd6-29f6af39c620"
      },
      "execution_count": null,
      "outputs": [
        {
          "output_type": "stream",
          "name": "stdout",
          "text": [
            "{'motorcycle'}\n",
            "motorcycle\n",
            "https://www.indianmotorcycle.com/en-us/\n",
            "https://www.centralfloridapowersports.com/collections/motorcycle\n",
            "https://en.wikipedia.org/wiki/Motorcycle\n",
            "https://suzukicycles.com/\n",
            "https://www.motorcycle.com/\n",
            "https://www.kawasaki.com/en-us/category/motorcycle/kx\n",
            "https://www.cycletrader.com/\n",
            "https://powersports.honda.com/\n",
            "https://powersports.honda.com/motorcycle\n",
            "https://powersports.honda.com/motorcycle/sport\n"
          ]
        }
      ]
    }
  ]
}